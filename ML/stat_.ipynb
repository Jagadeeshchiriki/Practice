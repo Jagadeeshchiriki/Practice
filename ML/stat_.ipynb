{
 "cells": [
  {
   "cell_type": "code",
   "execution_count": 2,
   "id": "2415e632",
   "metadata": {},
   "outputs": [
    {
     "name": "stdout",
     "output_type": "stream",
     "text": [
      "277.3333333333333\n"
     ]
    }
   ],
   "source": [
    "import numpy as np\n",
    "\n",
    "data=[23,543,67,234,456,341]\n",
    "\n",
    "avg=np.mean(data)\n",
    "print(avg)"
   ]
  },
  {
   "cell_type": "code",
   "execution_count": 3,
   "id": "6e6dbf74",
   "metadata": {},
   "outputs": [
    {
     "name": "stdout",
     "output_type": "stream",
     "text": [
      "287.5\n"
     ]
    }
   ],
   "source": [
    "# median\n",
    "mid=np.median(data)\n",
    "print(mid)"
   ]
  },
  {
   "cell_type": "code",
   "execution_count": 4,
   "id": "308d6745",
   "metadata": {},
   "outputs": [
    {
     "name": "stdout",
     "output_type": "stream",
     "text": [
      "ModeResult(mode=np.int64(23), count=np.int64(2))\n"
     ]
    }
   ],
   "source": [
    "# mode\n",
    "from scipy import stats\n",
    "\n",
    "data=[23,543,67,23,234,456,341]\n",
    "mod=stats.mode(data)\n",
    "print(mod)"
   ]
  },
  {
   "cell_type": "code",
   "execution_count": 5,
   "id": "23f48c62",
   "metadata": {},
   "outputs": [
    {
     "name": "stdout",
     "output_type": "stream",
     "text": [
      "ModeResult(mode=np.int64(86), count=np.int64(2))\n"
     ]
    }
   ],
   "source": [
    "\n",
    "from scipy import stats\n",
    "\n",
    "speed = [99,86,87,88,111,88,103,87,94,78,77,85,86]\n",
    "\n",
    "x = stats.mode(speed,keepdims=False)\n",
    "\n",
    "print(x)"
   ]
  },
  {
   "cell_type": "code",
   "execution_count": 6,
   "id": "5a08a8d4",
   "metadata": {},
   "outputs": [
    {
     "name": "stdout",
     "output_type": "stream",
     "text": [
      "17.2\n"
     ]
    }
   ],
   "source": [
    "import statistics\n",
    "print(statistics.variance([1,4,6,8,12]))"
   ]
  },
  {
   "cell_type": "code",
   "execution_count": 1,
   "id": "14476e91",
   "metadata": {},
   "outputs": [
    {
     "name": "stdout",
     "output_type": "stream",
     "text": [
      "14.131525041551601\n"
     ]
    }
   ],
   "source": [
    "import statistics\n",
    "print(statistics.stdev([-23,5,9,6,12]))"
   ]
  }
 ],
 "metadata": {
  "kernelspec": {
   "display_name": "Python 3",
   "language": "python",
   "name": "python3"
  },
  "language_info": {
   "codemirror_mode": {
    "name": "ipython",
    "version": 3
   },
   "file_extension": ".py",
   "mimetype": "text/x-python",
   "name": "python",
   "nbconvert_exporter": "python",
   "pygments_lexer": "ipython3",
   "version": "3.13.2"
  }
 },
 "nbformat": 4,
 "nbformat_minor": 5
}
